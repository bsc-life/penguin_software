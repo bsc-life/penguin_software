{
 "cells": [
  {
   "cell_type": "code",
   "execution_count": 3,
   "id": "9a1bfa4c",
   "metadata": {
    "ExecuteTime": {
     "end_time": "2022-03-16T10:54:13.278885Z",
     "start_time": "2022-03-16T10:54:12.866646Z"
    }
   },
   "outputs": [],
   "source": [
    "import pandas as pd\n",
    "import seaborn as sns"
   ]
  },
  {
   "cell_type": "code",
   "execution_count": 1,
   "id": "1d071101",
   "metadata": {
    "ExecuteTime": {
     "end_time": "2022-03-16T10:54:13.365527Z",
     "start_time": "2022-03-16T10:54:13.280715Z"
    }
   },
   "outputs": [
    {
     "ename": "ModuleNotFoundError",
     "evalue": "No module named 'networkx'",
     "output_type": "error",
     "traceback": [
      "\u001b[0;31m---------------------------------------------------------------------------\u001b[0m",
      "\u001b[0;31mModuleNotFoundError\u001b[0m                       Traceback (most recent call last)",
      "\u001b[0;32m/tmp/ipykernel_19793/3214213365.py\u001b[0m in \u001b[0;36m<module>\u001b[0;34m\u001b[0m\n\u001b[1;32m      1\u001b[0m \u001b[0;32mimport\u001b[0m \u001b[0mos\u001b[0m\u001b[0;34m\u001b[0m\u001b[0;34m\u001b[0m\u001b[0m\n\u001b[0;32m----> 2\u001b[0;31m \u001b[0;32mimport\u001b[0m \u001b[0mnetworkx\u001b[0m \u001b[0;32mas\u001b[0m \u001b[0mnx\u001b[0m\u001b[0;34m\u001b[0m\u001b[0;34m\u001b[0m\u001b[0m\n\u001b[0m\u001b[1;32m      3\u001b[0m \u001b[0;32mfrom\u001b[0m \u001b[0mmatplotlib\u001b[0m \u001b[0;32mimport\u001b[0m \u001b[0mpyplot\u001b[0m \u001b[0;32mas\u001b[0m \u001b[0mplt\u001b[0m\u001b[0;34m\u001b[0m\u001b[0;34m\u001b[0m\u001b[0m\n\u001b[1;32m      4\u001b[0m \u001b[0;32mfrom\u001b[0m \u001b[0mmatplotlib\u001b[0m\u001b[0;34m.\u001b[0m\u001b[0mcollections\u001b[0m \u001b[0;32mimport\u001b[0m \u001b[0mLineCollection\u001b[0m\u001b[0;34m\u001b[0m\u001b[0;34m\u001b[0m\u001b[0m\n\u001b[1;32m      5\u001b[0m \u001b[0;32mimport\u001b[0m \u001b[0mnumpy\u001b[0m \u001b[0;32mas\u001b[0m \u001b[0mnp\u001b[0m\u001b[0;34m\u001b[0m\u001b[0;34m\u001b[0m\u001b[0m\n",
      "\u001b[0;31mModuleNotFoundError\u001b[0m: No module named 'networkx'"
     ]
    }
   ],
   "source": [
    "import os\n",
    "import networkx as nx\n",
    "from matplotlib import pyplot as plt\n",
    "from matplotlib.collections import LineCollection\n",
    "import numpy as np\n",
    "from random import random, seed as rnd_seed\n",
    "from sklearn.preprocessing import MinMaxScaler"
   ]
  },
  {
   "cell_type": "code",
   "execution_count": 6,
   "id": "039e6780",
   "metadata": {
    "ExecuteTime": {
     "end_time": "2022-03-16T10:54:13.367843Z",
     "start_time": "2022-03-16T10:54:13.366208Z"
    }
   },
   "outputs": [],
   "source": [
    "dpath = '/home/fransua/Projects/prostate_Claudia/data/LNCaP/'\n",
    "dpath = '/home/fransua/Projects/prostate_Claudia/data/LNCaP/'\n",
    "dpath = '/data01/alexandros/algorithms/bsc_mount/FIMO2PPI/Mega_loops_1inter_normalised/tables/filtered'"
   ]
  },
  {
   "cell_type": "code",
   "execution_count": 4,
   "id": "939ea998",
   "metadata": {
    "ExecuteTime": {
     "end_time": "2022-03-16T10:54:13.371857Z",
     "start_time": "2022-03-16T10:54:13.369267Z"
    }
   },
   "outputs": [],
   "source": [
    "rpath = '/home/fransua/Projects/prostate_Claudia/data/LNCaP/graph_tables/'"
   ]
  },
  {
   "cell_type": "markdown",
   "id": "5786edce",
   "metadata": {},
   "source": [
    "# Load SNPs"
   ]
  },
  {
   "cell_type": "code",
   "execution_count": 8,
   "id": "8ef3f9c5",
   "metadata": {
    "ExecuteTime": {
     "end_time": "2022-03-16T10:54:13.380849Z",
     "start_time": "2022-03-16T10:54:13.372406Z"
    }
   },
   "outputs": [],
   "source": [
    "enha_snps = pd.read_csv(os.path.join(dpath, 'binding_sites_snp_enha.txt'), \n",
    "                        sep='\\t')\n",
    "# remove variant label\n",
    "enha_snps['motif_alt_id'] = enha_snps['motif_alt_id'].apply(\n",
    "    lambda x: x.replace('(var.2)', '').replace('(var.3)', ''))\n",
    "# split heterodimer complexes\n",
    "enha_snps['motif_alt_id'] = enha_snps['motif_alt_id'].apply(lambda x: x.split('::'))\n",
    "enha_snps = enha_snps.explode('motif_alt_id')\n",
    "# split fused complexes\n",
    "enha_snps['motif_alt_id'] = enha_snps['motif_alt_id'].apply(lambda x: x.split('-'))\n",
    "enha_snps = enha_snps.explode('motif_alt_id')\n",
    "enha_snps.drop_duplicates(inplace=True)"
   ]
  },
  {
   "cell_type": "code",
   "execution_count": 6,
   "id": "f4d20ec5",
   "metadata": {
    "ExecuteTime": {
     "end_time": "2022-03-16T10:54:13.389005Z",
     "start_time": "2022-03-16T10:54:13.381769Z"
    }
   },
   "outputs": [],
   "source": [
    "prom_snps = pd.read_csv(os.path.join(dpath, 'GWAS/binding_sites_snp_prom.txt'), \n",
    "                        sep='\\t')\n",
    "# remove variant label\n",
    "prom_snps['motif_alt_id'] = prom_snps['motif_alt_id'].apply(\n",
    "    lambda x: x.replace('(var.2)', '').replace('(var.3)', ''))\n",
    "# split heterodimer complexes\n",
    "prom_snps['motif_alt_id'] = prom_snps['motif_alt_id'].apply(lambda x: x.split('::'))\n",
    "prom_snps = prom_snps.explode('motif_alt_id')\n",
    "# split fused complexes\n",
    "prom_snps['motif_alt_id'] = prom_snps['motif_alt_id'].apply(lambda x: x.split('-'))\n",
    "prom_snps = prom_snps.explode('motif_alt_id')\n",
    "prom_snps.drop_duplicates(inplace=True)"
   ]
  },
  {
   "cell_type": "code",
   "execution_count": 11,
   "id": "c2333296",
   "metadata": {
    "ExecuteTime": {
     "end_time": "2022-03-16T10:54:13.412273Z",
     "start_time": "2022-03-16T10:54:13.389733Z"
    }
   },
   "outputs": [],
   "source": [
    "enha_coords = pd.read_csv(os.path.join(dpath, 'enhancer_table.txt'), \n",
    "                        sep='\\t')"
   ]
  },
  {
   "cell_type": "code",
   "execution_count": 12,
   "id": "9491a154",
   "metadata": {
    "ExecuteTime": {
     "end_time": "2022-03-16T10:54:13.441980Z",
     "start_time": "2022-03-16T10:54:13.412920Z"
    }
   },
   "outputs": [],
   "source": [
    "enha_coords['anchor'] = (enha_coords['CHR_enhancer'].astype(str) + '_' +\n",
    "                         enha_coords['start.norm_Enhancer'].astype(str) + '_' +\n",
    "                         enha_coords['end.norm_Enhancer'].astype(str))"
   ]
  },
  {
   "cell_type": "code",
   "execution_count": 16,
   "id": "c469a8f1",
   "metadata": {
    "ExecuteTime": {
     "end_time": "2022-03-16T10:54:13.454565Z",
     "start_time": "2022-03-16T10:54:13.442650Z"
    }
   },
   "outputs": [],
   "source": [
    "enha_table = pd.merge(enha_coords, enha_snps, on='anchor', how='outer')"
   ]
  },
  {
   "cell_type": "code",
   "execution_count": 10,
   "id": "94d5b96d",
   "metadata": {
    "ExecuteTime": {
     "end_time": "2022-03-16T10:54:13.493105Z",
     "start_time": "2022-03-16T10:54:13.455360Z"
    }
   },
   "outputs": [],
   "source": [
    "enha_coords['anchor'] = (enha_coords['CHR_Promoter'].astype(str) + '_' +\n",
    "                         enha_coords['start.Promoter'].astype(str) + '_' +\n",
    "                         enha_coords['end.Promoter'].astype(str))\n",
    "prom_table = pd.merge(enha_coords, prom_snps, on='anchor', how='outer')"
   ]
  },
  {
   "cell_type": "code",
   "execution_count": 18,
   "id": "c1e57eb1",
   "metadata": {
    "scrolled": true
   },
   "outputs": [
    {
     "data": {
      "text/html": [
       "<div>\n",
       "<style scoped>\n",
       "    .dataframe tbody tr th:only-of-type {\n",
       "        vertical-align: middle;\n",
       "    }\n",
       "\n",
       "    .dataframe tbody tr th {\n",
       "        vertical-align: top;\n",
       "    }\n",
       "\n",
       "    .dataframe thead th {\n",
       "        text-align: right;\n",
       "    }\n",
       "</style>\n",
       "<table border=\"1\" class=\"dataframe\">\n",
       "  <thead>\n",
       "    <tr style=\"text-align: right;\">\n",
       "      <th></th>\n",
       "      <th>gene.name</th>\n",
       "      <th>CHR_enhancer</th>\n",
       "      <th>start.Enhancer</th>\n",
       "      <th>end.Enhancer</th>\n",
       "      <th>start.norm_Enhancer</th>\n",
       "      <th>end.norm_Enhancer</th>\n",
       "      <th>CHR_Promoter</th>\n",
       "      <th>start.Promoter</th>\n",
       "      <th>end.Promoter</th>\n",
       "      <th>cluster</th>\n",
       "      <th>CTCF_cluster</th>\n",
       "      <th>GWAS_cluster</th>\n",
       "      <th>CTCF_binding</th>\n",
       "      <th>GWAS_SNP</th>\n",
       "      <th>anchor</th>\n",
       "      <th>motif_alt_id</th>\n",
       "      <th>rsid</th>\n",
       "      <th>type</th>\n",
       "    </tr>\n",
       "  </thead>\n",
       "  <tbody>\n",
       "    <tr>\n",
       "      <th>19502</th>\n",
       "      <td>GATA2-AS1</td>\n",
       "      <td>3</td>\n",
       "      <td>127925000</td>\n",
       "      <td>127940000</td>\n",
       "      <td>127936000</td>\n",
       "      <td>127937000</td>\n",
       "      <td>3</td>\n",
       "      <td>128207545</td>\n",
       "      <td>128208544</td>\n",
       "      <td>8</td>\n",
       "      <td>+</td>\n",
       "      <td>+</td>\n",
       "      <td>Yes</td>\n",
       "      <td>Yes</td>\n",
       "      <td>3_127936000_127937000</td>\n",
       "      <td>VEZF1</td>\n",
       "      <td>rs9879866</td>\n",
       "      <td>ENHA</td>\n",
       "    </tr>\n",
       "    <tr>\n",
       "      <th>19504</th>\n",
       "      <td>GATA2-AS1</td>\n",
       "      <td>3</td>\n",
       "      <td>127925000</td>\n",
       "      <td>127940000</td>\n",
       "      <td>127936000</td>\n",
       "      <td>127937000</td>\n",
       "      <td>3</td>\n",
       "      <td>128207545</td>\n",
       "      <td>128208544</td>\n",
       "      <td>8</td>\n",
       "      <td>+</td>\n",
       "      <td>+</td>\n",
       "      <td>Yes</td>\n",
       "      <td>Yes</td>\n",
       "      <td>3_127936000_127937000</td>\n",
       "      <td>ZNF740</td>\n",
       "      <td>rs9879866</td>\n",
       "      <td>ENHA</td>\n",
       "    </tr>\n",
       "    <tr>\n",
       "      <th>19508</th>\n",
       "      <td>GATA2-AS1</td>\n",
       "      <td>3</td>\n",
       "      <td>127930000</td>\n",
       "      <td>127945000</td>\n",
       "      <td>127936000</td>\n",
       "      <td>127937000</td>\n",
       "      <td>3</td>\n",
       "      <td>128207545</td>\n",
       "      <td>128208544</td>\n",
       "      <td>8</td>\n",
       "      <td>+</td>\n",
       "      <td>+</td>\n",
       "      <td>Yes</td>\n",
       "      <td>Yes</td>\n",
       "      <td>3_127936000_127937000</td>\n",
       "      <td>VEZF1</td>\n",
       "      <td>rs9879866</td>\n",
       "      <td>ENHA</td>\n",
       "    </tr>\n",
       "    <tr>\n",
       "      <th>19510</th>\n",
       "      <td>GATA2-AS1</td>\n",
       "      <td>3</td>\n",
       "      <td>127930000</td>\n",
       "      <td>127945000</td>\n",
       "      <td>127936000</td>\n",
       "      <td>127937000</td>\n",
       "      <td>3</td>\n",
       "      <td>128207545</td>\n",
       "      <td>128208544</td>\n",
       "      <td>8</td>\n",
       "      <td>+</td>\n",
       "      <td>+</td>\n",
       "      <td>Yes</td>\n",
       "      <td>Yes</td>\n",
       "      <td>3_127936000_127937000</td>\n",
       "      <td>ZNF740</td>\n",
       "      <td>rs9879866</td>\n",
       "      <td>ENHA</td>\n",
       "    </tr>\n",
       "    <tr>\n",
       "      <th>19514</th>\n",
       "      <td>GATA2-AS1</td>\n",
       "      <td>3</td>\n",
       "      <td>127935000</td>\n",
       "      <td>127950000</td>\n",
       "      <td>127936000</td>\n",
       "      <td>127937000</td>\n",
       "      <td>3</td>\n",
       "      <td>128207545</td>\n",
       "      <td>128208544</td>\n",
       "      <td>8</td>\n",
       "      <td>+</td>\n",
       "      <td>+</td>\n",
       "      <td>Yes</td>\n",
       "      <td>Yes</td>\n",
       "      <td>3_127936000_127937000</td>\n",
       "      <td>VEZF1</td>\n",
       "      <td>rs9879866</td>\n",
       "      <td>ENHA</td>\n",
       "    </tr>\n",
       "    <tr>\n",
       "      <th>19516</th>\n",
       "      <td>GATA2-AS1</td>\n",
       "      <td>3</td>\n",
       "      <td>127935000</td>\n",
       "      <td>127950000</td>\n",
       "      <td>127936000</td>\n",
       "      <td>127937000</td>\n",
       "      <td>3</td>\n",
       "      <td>128207545</td>\n",
       "      <td>128208544</td>\n",
       "      <td>8</td>\n",
       "      <td>+</td>\n",
       "      <td>+</td>\n",
       "      <td>Yes</td>\n",
       "      <td>Yes</td>\n",
       "      <td>3_127936000_127937000</td>\n",
       "      <td>ZNF740</td>\n",
       "      <td>rs9879866</td>\n",
       "      <td>ENHA</td>\n",
       "    </tr>\n",
       "  </tbody>\n",
       "</table>\n",
       "</div>"
      ],
      "text/plain": [
       "       gene.name CHR_enhancer  start.Enhancer  end.Enhancer  \\\n",
       "19502  GATA2-AS1            3       127925000     127940000   \n",
       "19504  GATA2-AS1            3       127925000     127940000   \n",
       "19508  GATA2-AS1            3       127930000     127945000   \n",
       "19510  GATA2-AS1            3       127930000     127945000   \n",
       "19514  GATA2-AS1            3       127935000     127950000   \n",
       "19516  GATA2-AS1            3       127935000     127950000   \n",
       "\n",
       "       start.norm_Enhancer  end.norm_Enhancer CHR_Promoter  start.Promoter  \\\n",
       "19502            127936000          127937000            3       128207545   \n",
       "19504            127936000          127937000            3       128207545   \n",
       "19508            127936000          127937000            3       128207545   \n",
       "19510            127936000          127937000            3       128207545   \n",
       "19514            127936000          127937000            3       128207545   \n",
       "19516            127936000          127937000            3       128207545   \n",
       "\n",
       "       end.Promoter  cluster CTCF_cluster GWAS_cluster CTCF_binding GWAS_SNP  \\\n",
       "19502     128208544        8            +            +          Yes      Yes   \n",
       "19504     128208544        8            +            +          Yes      Yes   \n",
       "19508     128208544        8            +            +          Yes      Yes   \n",
       "19510     128208544        8            +            +          Yes      Yes   \n",
       "19514     128208544        8            +            +          Yes      Yes   \n",
       "19516     128208544        8            +            +          Yes      Yes   \n",
       "\n",
       "                      anchor motif_alt_id       rsid  type  \n",
       "19502  3_127936000_127937000        VEZF1  rs9879866  ENHA  \n",
       "19504  3_127936000_127937000       ZNF740  rs9879866  ENHA  \n",
       "19508  3_127936000_127937000        VEZF1  rs9879866  ENHA  \n",
       "19510  3_127936000_127937000       ZNF740  rs9879866  ENHA  \n",
       "19514  3_127936000_127937000        VEZF1  rs9879866  ENHA  \n",
       "19516  3_127936000_127937000       ZNF740  rs9879866  ENHA  "
      ]
     },
     "execution_count": 18,
     "metadata": {},
     "output_type": "execute_result"
    }
   ],
   "source": [
    "enha_table[enha_table['rsid'] == \"rs9879866\"]"
   ]
  },
  {
   "cell_type": "code",
   "execution_count": 19,
   "id": "70899dc7",
   "metadata": {},
   "outputs": [
    {
     "ename": "NameError",
     "evalue": "name 'node' is not defined",
     "output_type": "error",
     "traceback": [
      "\u001b[0;31m---------------------------------------------------------------------------\u001b[0m",
      "\u001b[0;31mNameError\u001b[0m                                 Traceback (most recent call last)",
      "\u001b[0;32m/tmp/ipykernel_19793/642937997.py\u001b[0m in \u001b[0;36m<module>\u001b[0;34m\u001b[0m\n\u001b[1;32m      1\u001b[0m list(enha_table[(enha_table['gene.name']==\"GATA2-AS1\") & \n\u001b[0;32m----> 2\u001b[0;31m                                    (enha_table['motif_alt_id']==node[5:])]['rsid'])[0]\n\u001b[0m",
      "\u001b[0;31mNameError\u001b[0m: name 'node' is not defined"
     ]
    }
   ],
   "source": [
    "list(enha_table[(enha_table['gene.name']==\"GATA2-AS1\") & \n",
    "                                   (enha_table['motif_alt_id']==node[5:])]['rsid'])[0]"
   ]
  },
  {
   "cell_type": "markdown",
   "id": "ff4543d7",
   "metadata": {},
   "source": [
    "## Load expression"
   ]
  },
  {
   "cell_type": "code",
   "execution_count": 11,
   "id": "1532eeb2",
   "metadata": {
    "ExecuteTime": {
     "end_time": "2022-03-16T10:54:13.514809Z",
     "start_time": "2022-03-16T10:54:13.493965Z"
    }
   },
   "outputs": [],
   "source": [
    "expression = pd.read_csv(os.path.join(dpath, 'expression', 'DESeq_LNCaP_LHSAR.txt'), sep=' ')"
   ]
  },
  {
   "cell_type": "markdown",
   "id": "63498cb4",
   "metadata": {},
   "source": [
    "## create more columns to describe edges"
   ]
  },
  {
   "cell_type": "code",
   "execution_count": 12,
   "id": "ce107653",
   "metadata": {
    "ExecuteTime": {
     "end_time": "2022-03-16T10:54:13.520963Z",
     "start_time": "2022-03-16T10:54:13.515578Z"
    }
   },
   "outputs": [],
   "source": [
    "def label_edges(data):\n",
    "    data['enhancer_1'] = data['edge'].apply(lambda x: x.split(';')[0]\n",
    "                                            if 'ENHA_' in x.split(';')[0] else False)\n",
    "    data['promoter_1'] = data['edge'].apply(lambda x: x.split(';')[0]\n",
    "                                            if 'PROM_' in x.split(';')[0] else False)\n",
    "    data['intermed_1'] = data['edge'].apply(lambda x: x.split(';')[0] \n",
    "                                            if 'ENHA_' not in x.split(';')[0] and \n",
    "                                               'PROM_' not in x.split(';')[0] else False)\n",
    "    data['enhancer_2'] = data['edge'].apply(lambda x: x.split(';')[1]\n",
    "                                            if 'ENHA_' in x.split(';')[1] else False)\n",
    "    data['promoter_2'] = data['edge'].apply(lambda x: x.split(';')[1]\n",
    "                                            if 'PROM_' in x.split(';')[1] else False)\n",
    "    data['intermed_2'] = data['edge'].apply(lambda x: x.split(';')[1] \n",
    "                                            if 'ENHA_' not in x.split(';')[1] and \n",
    "                                               'PROM_' not in x.split(';')[1] else False)\n",
    "    data['node_1'] = data['edge'].apply(lambda x: x.split(';')[0])\n",
    "    data['node_2'] = data['edge'].apply(lambda x: x.split(';')[1])\n",
    "\n",
    "    data['enhancer'] = data['edge'].apply(lambda x: \n",
    "                                          'ENHA_' in x.split(';')[0] or\n",
    "                                          'ENHA_' in x.split(';')[1])\n",
    "    data['promoter'] = data['edge'].apply(lambda x: \n",
    "                                          'PROM_' in x.split(';')[0] or\n",
    "                                          'PROM_' in x.split(';')[1])\n",
    "    data['intermed'] = data['edge'].apply(lambda x:\n",
    "                                          ('ENHA_' not in x.split(';')[0] or 'ENHA_' not in x.split(';')[1]) \n",
    "                                          and \n",
    "                                          ('PROM_' not in x.split(';')[0] or 'PROM_' not in x.split(';')[1]))"
   ]
  },
  {
   "cell_type": "code",
   "execution_count": 13,
   "id": "5072361d",
   "metadata": {
    "ExecuteTime": {
     "end_time": "2022-03-16T11:04:24.392805Z",
     "start_time": "2022-03-16T10:54:13.522113Z"
    },
    "scrolled": true
   },
   "outputs": [],
   "source": [
    "for fnam in os.listdir(os.path.join(dpath, 'use_case_tables')):\n",
    "    if not fnam.endswith('.txt'):\n",
    "        continue\n",
    "    name = fnam.split('.')[0]\n",
    "    edges = pd.read_csv(os.path.join(dpath, 'use_case_tables', fnam), sep='\\t')\n",
    "    # remove edges prom-prom or enha-enha\n",
    "    edges = edges[~((edges['edge'].apply(lambda x: x.count('ENHA_')) > 1) | \n",
    "                    (edges['edge'].apply(lambda x: x.count('PROM_')) > 1))]\n",
    "    # add some labelling\n",
    "    label_edges(edges)\n",
    "    \n",
    "    edges['druggable'] = (edges['drugs.targeting.both.proteins']!= '-') & (edges['drug.targets'] >= 1)\n",
    "\n",
    "    enhancers = set(v for v in \n",
    "                    (list(edges[edges['enhancer']]['enhancer_1']) +  \n",
    "                     list(edges[edges['enhancer']]['enhancer_2'])) \n",
    "                    if v)\n",
    "    promoters = set(v for v in \n",
    "                    (list(edges[edges['promoter']]['promoter_1']) +\n",
    "                     list(edges[edges['promoter']]['promoter_2']))\n",
    "                    if v)\n",
    "    intermeds = set(v for v in \n",
    "                    (list(edges[edges['intermed']]['intermed_1']) +  \n",
    "                     list(edges[edges['intermed']]['intermed_2']))\n",
    "                    if v)\n",
    "\n",
    "    size_p = len(promoters)\n",
    "    size_e = len(enhancers)\n",
    "\n",
    "    # compute graph coords\n",
    "    rnd_seed(1)        # or any integer\n",
    "    np.random.seed(1)\n",
    "\n",
    "    # build graph\n",
    "    G = nx.Graph()\n",
    "    for k in edges['edge'].apply(lambda x: x.split(';')):\n",
    "        G.add_edge(*k)\n",
    "    # define node coordinates of intermediates\n",
    "    pos = nx.fruchterman_reingold_layout(G, weight=0.01, k=1, iterations=50)\n",
    "\n",
    "    # X limits\n",
    "    xprom = -1.1\n",
    "    xenha = 1.1\n",
    "\n",
    "    # add node cordinates for promoters\n",
    "    x, y = [xprom - (p % 3) / 30 for p in range(size_p)], np.linspace(-1.1, 1.1, size_p)\n",
    "    pos.update(dict((n, (i, j)) for i, j, n in zip(x, y, sorted(promoters))))\n",
    "    # add node cordinates for enhancers\n",
    "    x, y = [xenha + (p % 3) / 30 for p in range(size_e)], np.linspace(-1.1, 1.1, size_e)\n",
    "    pos.update(dict((n, (i, j)) for i, j, n in zip(x, y, sorted(enhancers))))\n",
    "\n",
    "    # put X-Y coordinates in edges\n",
    "    edges['XYs-edge'] = list(zip(edges['node1'].apply(lambda x:pos[x]), \n",
    "                                 edges['node2'].apply(lambda x:pos[x])))\n",
    "    \n",
    "    tmp = []\n",
    "    Gstat_headers = ['Betweenness_global', 'Degree_global',\n",
    "                     'Betweenness_in_cluster', 'Betweenness_out_cluster',\n",
    "                     'Betweenness_enrichment', 'Degree_in_cluster', 'Degree_out_cluster',\n",
    "                     'Degree_enrichment', 'Betweenness_enrichment_pval',\n",
    "                     'Degree_enrichment_pval', 'fisher_test_OR', 'fisher_test_pval']\n",
    "    columns = ['protein', 'is_enhancer', 'is_promoter', 'is_intermediate', \n",
    "               'X-graph-coord', 'Y-graph-coord', 'degree',\n",
    "               'expression_log2FoldChange', 'expression_padj', 'SNP-binding'] + Gstat_headers\n",
    "    Gstats = [float('nan')] * len(Gstat_headers)\n",
    "    edges_snp = np.array([False] * len(edges))\n",
    "    for node in enhancers:\n",
    "        try:\n",
    "            snp = list(enha_table[(enha_table['gene.name']==name) & \n",
    "                                   (enha_table['motif_alt_id']==node[5:])]['rsid'])[0]\n",
    "        except IndexError:\n",
    "            snp = False\n",
    "        count = len(edges[edges['edge'].apply(lambda x: node in x.split(';'))])\n",
    "        OR = edges[edges['edge'].apply(lambda x: node in x.split(';'))]['fisher_test_edge_OR'].median()\n",
    "        pv = edges[edges['edge'].apply(lambda x: node in x.split(';'))]['fisher_test_edge_pvalue'].median()\n",
    "        Gstats[Gstat_headers.index('fisher_test_OR')] = OR\n",
    "        Gstats[Gstat_headers.index('fisher_test_pval')] = pv\n",
    "        # create data-frame\n",
    "        s = expression['Row.names']==node[5:]\n",
    "        tmp.append([node,                                                     # node name\n",
    "                    True,                                                     # is enhancer\n",
    "                    False,                                                    # is promoter\n",
    "                    False,                                                    # is intermediate\n",
    "                    pos[node][0],                                             # X coordinate\n",
    "                    pos[node][1],                                             # Y coordinate\n",
    "                    count,                                                    # number edges through\n",
    "                    expression['log2FoldChange'].get(                         # expression fold change\n",
    "                        expression[s].index[0] if any(s) else None, float('nan')),\n",
    "                    expression['padj'].get(                                   # expression p-value change\n",
    "                        expression[s].index[0] if any(s) else None, float('nan')),\n",
    "                    snp,                                                     # SNP in protein binding site\n",
    "                   ] + Gstats)\n",
    "\n",
    "        # label edges connected to enhancer-SNPs\n",
    "        if snp:\n",
    "            for nprom in promoters:\n",
    "                for ns_ in nx.all_simple_paths(G, node, nprom, cutoff=2):\n",
    "                    try:\n",
    "                        n1, n2, n3 = ns_\n",
    "                    except ValueError:\n",
    "                        n1, n2 = ns_\n",
    "                        n3 = ''\n",
    "                    # we only want edges that are connected to intermediate nodes (no enha-enha or prom-prom)\n",
    "                    if n2.startswith('ENHA_'):\n",
    "                        continue\n",
    "                    edges_snp = edges_snp | (edges['node1'] == n1) & (edges['node2'] == n2)\n",
    "                    edges_snp = edges_snp | (edges['node1'] == n2) & (edges['node2'] == n1)\n",
    "                    if not n2.startswith('PROM_') or n3 == '':\n",
    "                        edges_snp = edges_snp | (edges['node1'] == n3) & (edges['node2'] == n2)\n",
    "                        edges_snp = edges_snp | (edges['node1'] == n2) & (edges['node2'] == n3)\n",
    "    edges['SNP-path'] = edges_snp\n",
    "\n",
    "    for node in promoters:\n",
    "        try:\n",
    "            snp = list(prom_table[(prom_table['gene.name']==name) & \n",
    "                                   (prom_table['motif_alt_id']==node[5:])]['rsid'])[0]\n",
    "            print(name, psnp)\n",
    "        except IndexError:\n",
    "            snp = False\n",
    "        count = len(edges[edges['edge'].apply(lambda x: node in x.split(';'))])\n",
    "        OR = edges[edges['edge'].apply(lambda x: node in x.split(';'))]['fisher_test_edge_OR'].median()\n",
    "        pv = edges[edges['edge'].apply(lambda x: node in x.split(';'))]['fisher_test_edge_pvalue'].median()\n",
    "        Gstats[Gstat_headers.index('fisher_test_OR')] = OR\n",
    "        Gstats[Gstat_headers.index('fisher_test_pval')] = pv\n",
    "        # create data-frame\n",
    "        s = expression['Row.names']==node[5:]\n",
    "        tmp.append([node,                                                     # node name\n",
    "                    False,                                                    # is enhancer\n",
    "                    True,                                                     # is promoter\n",
    "                    False,                                                    # is intermediate\n",
    "                    pos[node][0],                                             # X coordinate\n",
    "                    pos[node][1],                                             # Y coordinate\n",
    "                    count,                                                    # number edges through\n",
    "                    expression['log2FoldChange'].get(                         # expression fold change\n",
    "                        expression[s].index[0] if any(s) else None, float('nan')),\n",
    "                    expression['padj'].get(                                   # expression p-value change\n",
    "                        expression[s].index[0] if any(s) else None, float('nan')),\n",
    "                    snp,                                                     # SNP in protein binding site\n",
    "                   ] + Gstats)\n",
    "\n",
    "    for node in intermeds:        \n",
    "        Gstats = list(edges[edges['intermediate_node']==node][Gstat_headers].to_numpy()[0])\n",
    "        count = len(edges[edges['edge'].apply(lambda x: node in x.split(';'))])\n",
    "        # create data-frame\n",
    "        s = expression['Row.names']==node\n",
    "        tmp.append([node,                                                     # node name\n",
    "                    False,                                                    # is enhancer\n",
    "                    False,                                                    # is promoter\n",
    "                    True,                                                     # is intermediate\n",
    "                    pos[node][0],                                             # X coordinate\n",
    "                    pos[node][1],                                             # Y coordinate\n",
    "                    count,                                                    # number edges through\n",
    "                    expression['log2FoldChange'].get(                         # expression fold change\n",
    "                        expression[s].index[0] if any(s) else None, float('nan')),\n",
    "                    expression['padj'].get(                                   # expression p-value change\n",
    "                        expression[s].index[0] if any(s) else None, float('nan')),\n",
    "                    False,                                                     # SNP in protein binding site\n",
    "                   ] + Gstats)\n",
    "        \n",
    "\n",
    "    # stores edges    \n",
    "    edges = edges[[\n",
    "        'edge', 'fisher_test_edge_OR', 'fisher_test_edge_pvalue',\n",
    "        'SNP-path', 'XYs-edge', 'druggable']]\n",
    "\n",
    "    # store nodes\n",
    "    nodes = pd.DataFrame(tmp, columns=columns)\n",
    "    nodes.to_csv(os.path.join(rpath, f'{name}_nodes.tsv'), sep='\\t', index=False)\n",
    "    edges.to_csv(os.path.join(rpath, f'{name}_edges.tsv'), sep='\\t', index=False)"
   ]
  },
  {
   "cell_type": "code",
   "execution_count": null,
   "id": "7d088b0e",
   "metadata": {},
   "outputs": [],
   "source": []
  }
 ],
 "metadata": {
  "kernelspec": {
   "display_name": "Python 3 (ipykernel)",
   "language": "python",
   "name": "python3"
  },
  "language_info": {
   "codemirror_mode": {
    "name": "ipython",
    "version": 3
   },
   "file_extension": ".py",
   "mimetype": "text/x-python",
   "name": "python",
   "nbconvert_exporter": "python",
   "pygments_lexer": "ipython3",
   "version": "3.9.7"
  },
  "notify_time": "5",
  "toc": {
   "base_numbering": 1,
   "nav_menu": {},
   "number_sections": false,
   "sideBar": true,
   "skip_h1_title": false,
   "title_cell": "Table of Contents",
   "title_sidebar": "Contents",
   "toc_cell": false,
   "toc_position": {},
   "toc_section_display": true,
   "toc_window_display": false
  }
 },
 "nbformat": 4,
 "nbformat_minor": 5
}
